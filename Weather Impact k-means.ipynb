{
 "cells": [
  {
   "cell_type": "markdown",
   "metadata": {},
   "source": [
    "## Analyzing the weather impact on the sales of a San Francisco based bike rental company.\n",
    "\n",
    "#### Motivation: Bike sharing programs are proven to be a boon with cutting down the traffic congestion and in turn lowering the pollution levels. The bike sharing programs today have a recreational, environmental impacts and have a positive influence on an individual’s health.  \n",
    " \n",
    "#### Problem: We are analyzing the data from a popular bike sharing company to see if the daily weather conditions have any impact on the number of trips recorded. We are going to come up with few recommendations which might help the business prevent declining sales.  \n",
    " \n",
    "\n",
    "#### DataSet : We have used the data for a San Francisco based bike rental company https://www.bikerentalsanfrancisco.com for our analysis. The data was collected from Kaggle where we had separate datasets for trips and weather based on city and date. We performed data exploration and feature engineering based on what was important for this experiment.  \n",
    " \n",
    "The list of variables that we have retained in our final dataset are:  \n",
    " \n",
    "1. Date 2. Mean Weather Conditions (mean temperature, mean humidity, mean visibility, mean wind speed, precipitation) 3. Weather Events (for eg. Rain, Thunderstorm) 4. Trips (no of trips in a day), 5. Date features (month, year, weekday number). \n",
    " \n",
    "Link to Kaggle dataset: https://www.kaggle.com/benhamner/sf-bay-area-bike-share "
   ]
  },
  {
   "cell_type": "code",
   "execution_count": 23,
   "metadata": {},
   "outputs": [],
   "source": [
    "#importing the libraries\n",
    "import os\n",
    "import pandas as pd\n",
    "import numpy as np\n",
    "import glob\n",
    "import re\n",
    "from datetime import datetime\n",
    "import scipy"
   ]
  },
  {
   "cell_type": "code",
   "execution_count": 11,
   "metadata": {},
   "outputs": [],
   "source": [
    "pd.options.display.max_columns = 999"
   ]
  },
  {
   "cell_type": "markdown",
   "metadata": {},
   "source": [
    "### dataset 1: Trip"
   ]
  },
  {
   "cell_type": "code",
   "execution_count": 4,
   "metadata": {},
   "outputs": [],
   "source": [
    "trip = pd.read_csv(r\"C:\\Users\\Ujjwal Singh\\Desktop\\Pandas\\sf-bay-area-bike-share\\trip.csv\")"
   ]
  },
  {
   "cell_type": "code",
   "execution_count": 5,
   "metadata": {},
   "outputs": [],
   "source": [
    "trip.rename(columns = {'id':'trip_id'}, inplace=True)"
   ]
  },
  {
   "cell_type": "code",
   "execution_count": 6,
   "metadata": {},
   "outputs": [
    {
     "data": {
      "text/plain": [
       "669959"
      ]
     },
     "execution_count": 6,
     "metadata": {},
     "output_type": "execute_result"
    }
   ],
   "source": [
    "len(trip)"
   ]
  },
  {
   "cell_type": "code",
   "execution_count": 7,
   "metadata": {},
   "outputs": [
    {
     "data": {
      "text/html": [
       "<div>\n",
       "<style scoped>\n",
       "    .dataframe tbody tr th:only-of-type {\n",
       "        vertical-align: middle;\n",
       "    }\n",
       "\n",
       "    .dataframe tbody tr th {\n",
       "        vertical-align: top;\n",
       "    }\n",
       "\n",
       "    .dataframe thead th {\n",
       "        text-align: right;\n",
       "    }\n",
       "</style>\n",
       "<table border=\"1\" class=\"dataframe\">\n",
       "  <thead>\n",
       "    <tr style=\"text-align: right;\">\n",
       "      <th></th>\n",
       "      <th>trip_id</th>\n",
       "      <th>duration</th>\n",
       "      <th>start_date</th>\n",
       "      <th>start_station_name</th>\n",
       "      <th>start_station_id</th>\n",
       "      <th>end_date</th>\n",
       "      <th>end_station_name</th>\n",
       "      <th>end_station_id</th>\n",
       "      <th>bike_id</th>\n",
       "      <th>subscription_type</th>\n",
       "      <th>zip_code</th>\n",
       "    </tr>\n",
       "  </thead>\n",
       "  <tbody>\n",
       "    <tr>\n",
       "      <th>0</th>\n",
       "      <td>4576</td>\n",
       "      <td>63</td>\n",
       "      <td>8/29/2013 14:13</td>\n",
       "      <td>South Van Ness at Market</td>\n",
       "      <td>66</td>\n",
       "      <td>8/29/2013 14:14</td>\n",
       "      <td>South Van Ness at Market</td>\n",
       "      <td>66</td>\n",
       "      <td>520</td>\n",
       "      <td>Subscriber</td>\n",
       "      <td>94127</td>\n",
       "    </tr>\n",
       "    <tr>\n",
       "      <th>1</th>\n",
       "      <td>4607</td>\n",
       "      <td>70</td>\n",
       "      <td>8/29/2013 14:42</td>\n",
       "      <td>San Jose City Hall</td>\n",
       "      <td>10</td>\n",
       "      <td>8/29/2013 14:43</td>\n",
       "      <td>San Jose City Hall</td>\n",
       "      <td>10</td>\n",
       "      <td>661</td>\n",
       "      <td>Subscriber</td>\n",
       "      <td>95138</td>\n",
       "    </tr>\n",
       "    <tr>\n",
       "      <th>2</th>\n",
       "      <td>4130</td>\n",
       "      <td>71</td>\n",
       "      <td>8/29/2013 10:16</td>\n",
       "      <td>Mountain View City Hall</td>\n",
       "      <td>27</td>\n",
       "      <td>8/29/2013 10:17</td>\n",
       "      <td>Mountain View City Hall</td>\n",
       "      <td>27</td>\n",
       "      <td>48</td>\n",
       "      <td>Subscriber</td>\n",
       "      <td>97214</td>\n",
       "    </tr>\n",
       "    <tr>\n",
       "      <th>3</th>\n",
       "      <td>4251</td>\n",
       "      <td>77</td>\n",
       "      <td>8/29/2013 11:29</td>\n",
       "      <td>San Jose City Hall</td>\n",
       "      <td>10</td>\n",
       "      <td>8/29/2013 11:30</td>\n",
       "      <td>San Jose City Hall</td>\n",
       "      <td>10</td>\n",
       "      <td>26</td>\n",
       "      <td>Subscriber</td>\n",
       "      <td>95060</td>\n",
       "    </tr>\n",
       "    <tr>\n",
       "      <th>4</th>\n",
       "      <td>4299</td>\n",
       "      <td>83</td>\n",
       "      <td>8/29/2013 12:02</td>\n",
       "      <td>South Van Ness at Market</td>\n",
       "      <td>66</td>\n",
       "      <td>8/29/2013 12:04</td>\n",
       "      <td>Market at 10th</td>\n",
       "      <td>67</td>\n",
       "      <td>319</td>\n",
       "      <td>Subscriber</td>\n",
       "      <td>94103</td>\n",
       "    </tr>\n",
       "  </tbody>\n",
       "</table>\n",
       "</div>"
      ],
      "text/plain": [
       "   trip_id  duration       start_date        start_station_name  \\\n",
       "0     4576        63  8/29/2013 14:13  South Van Ness at Market   \n",
       "1     4607        70  8/29/2013 14:42        San Jose City Hall   \n",
       "2     4130        71  8/29/2013 10:16   Mountain View City Hall   \n",
       "3     4251        77  8/29/2013 11:29        San Jose City Hall   \n",
       "4     4299        83  8/29/2013 12:02  South Van Ness at Market   \n",
       "\n",
       "   start_station_id         end_date          end_station_name  \\\n",
       "0                66  8/29/2013 14:14  South Van Ness at Market   \n",
       "1                10  8/29/2013 14:43        San Jose City Hall   \n",
       "2                27  8/29/2013 10:17   Mountain View City Hall   \n",
       "3                10  8/29/2013 11:30        San Jose City Hall   \n",
       "4                66  8/29/2013 12:04            Market at 10th   \n",
       "\n",
       "   end_station_id  bike_id subscription_type zip_code  \n",
       "0              66      520        Subscriber    94127  \n",
       "1              10      661        Subscriber    95138  \n",
       "2              27       48        Subscriber    97214  \n",
       "3              10       26        Subscriber    95060  \n",
       "4              67      319        Subscriber    94103  "
      ]
     },
     "execution_count": 7,
     "metadata": {},
     "output_type": "execute_result"
    }
   ],
   "source": [
    "trip.head()"
   ]
  },
  {
   "cell_type": "code",
   "execution_count": 8,
   "metadata": {},
   "outputs": [],
   "source": [
    "#converting start_date column from string to date dtype.\n",
    "trip.start_date = pd.to_datetime(trip.start_date, format='%m/%d/%Y %H:%M')\n",
    "#Parsing date\n",
    "trip['date'] = trip.start_date.dt.date\n",
    "#converting string 'date' back to date format\n",
    "trip.date = pd.to_datetime(trip.date)"
   ]
  },
  {
   "cell_type": "code",
   "execution_count": 9,
   "metadata": {},
   "outputs": [
    {
     "data": {
      "text/html": [
       "<div>\n",
       "<style scoped>\n",
       "    .dataframe tbody tr th:only-of-type {\n",
       "        vertical-align: middle;\n",
       "    }\n",
       "\n",
       "    .dataframe tbody tr th {\n",
       "        vertical-align: top;\n",
       "    }\n",
       "\n",
       "    .dataframe thead th {\n",
       "        text-align: right;\n",
       "    }\n",
       "</style>\n",
       "<table border=\"1\" class=\"dataframe\">\n",
       "  <thead>\n",
       "    <tr style=\"text-align: right;\">\n",
       "      <th></th>\n",
       "      <th>date</th>\n",
       "      <th>trips</th>\n",
       "    </tr>\n",
       "  </thead>\n",
       "  <tbody>\n",
       "    <tr>\n",
       "      <th>0</th>\n",
       "      <td>2013-08-29</td>\n",
       "      <td>748</td>\n",
       "    </tr>\n",
       "    <tr>\n",
       "      <th>1</th>\n",
       "      <td>2013-08-30</td>\n",
       "      <td>714</td>\n",
       "    </tr>\n",
       "    <tr>\n",
       "      <th>2</th>\n",
       "      <td>2013-08-31</td>\n",
       "      <td>640</td>\n",
       "    </tr>\n",
       "    <tr>\n",
       "      <th>3</th>\n",
       "      <td>2013-09-01</td>\n",
       "      <td>706</td>\n",
       "    </tr>\n",
       "    <tr>\n",
       "      <th>4</th>\n",
       "      <td>2013-09-02</td>\n",
       "      <td>661</td>\n",
       "    </tr>\n",
       "  </tbody>\n",
       "</table>\n",
       "</div>"
      ],
      "text/plain": [
       "        date  trips\n",
       "0 2013-08-29    748\n",
       "1 2013-08-30    714\n",
       "2 2013-08-31    640\n",
       "3 2013-09-01    706\n",
       "4 2013-09-02    661"
      ]
     },
     "execution_count": 9,
     "metadata": {},
     "output_type": "execute_result"
    }
   ],
   "source": [
    "### feature engineering to calculate the number of trips on each date\n",
    "trip_cnt = trip.groupby(['date'], as_index= False).agg({'trip_id':'count'})\n",
    "trip_cnt.rename(columns = {'trip_id':'trips'}, inplace=True)\n",
    "trip_cnt.head()"
   ]
  },
  {
   "cell_type": "code",
   "execution_count": 10,
   "metadata": {},
   "outputs": [
    {
     "data": {
      "text/html": [
       "<div>\n",
       "<style scoped>\n",
       "    .dataframe tbody tr th:only-of-type {\n",
       "        vertical-align: middle;\n",
       "    }\n",
       "\n",
       "    .dataframe tbody tr th {\n",
       "        vertical-align: top;\n",
       "    }\n",
       "\n",
       "    .dataframe thead th {\n",
       "        text-align: right;\n",
       "    }\n",
       "</style>\n",
       "<table border=\"1\" class=\"dataframe\">\n",
       "  <thead>\n",
       "    <tr style=\"text-align: right;\">\n",
       "      <th></th>\n",
       "      <th>date</th>\n",
       "      <th>zip_code</th>\n",
       "      <th>trips</th>\n",
       "    </tr>\n",
       "  </thead>\n",
       "  <tbody>\n",
       "    <tr>\n",
       "      <th>41</th>\n",
       "      <td>2013-08-29</td>\n",
       "      <td>94041</td>\n",
       "      <td>5</td>\n",
       "    </tr>\n",
       "    <tr>\n",
       "      <th>44</th>\n",
       "      <td>2013-08-29</td>\n",
       "      <td>94063</td>\n",
       "      <td>2</td>\n",
       "    </tr>\n",
       "    <tr>\n",
       "      <th>51</th>\n",
       "      <td>2013-08-29</td>\n",
       "      <td>94107</td>\n",
       "      <td>37</td>\n",
       "    </tr>\n",
       "    <tr>\n",
       "      <th>72</th>\n",
       "      <td>2013-08-29</td>\n",
       "      <td>94301</td>\n",
       "      <td>4</td>\n",
       "    </tr>\n",
       "    <tr>\n",
       "      <th>108</th>\n",
       "      <td>2013-08-29</td>\n",
       "      <td>95113</td>\n",
       "      <td>2</td>\n",
       "    </tr>\n",
       "  </tbody>\n",
       "</table>\n",
       "</div>"
      ],
      "text/plain": [
       "          date zip_code  trips\n",
       "41  2013-08-29    94041      5\n",
       "44  2013-08-29    94063      2\n",
       "51  2013-08-29    94107     37\n",
       "72  2013-08-29    94301      4\n",
       "108 2013-08-29    95113      2"
      ]
     },
     "execution_count": 10,
     "metadata": {},
     "output_type": "execute_result"
    }
   ],
   "source": [
    "### no of trips based on date and zip code\n",
    "trip_cnt_zip = trip.groupby(['date','zip_code'], as_index= False).agg({'trip_id':'count'})\n",
    "trip_cnt_zip.rename(columns = {'trip_id':'trips'}, inplace=True)\n",
    "#filtering with only the zip codes (san fransisco) avaliable in weather dataset.\n",
    "trip_cnt_zip2 = trip_cnt_zip.loc[trip_cnt_zip.zip_code.isin(['94107', '94063', '94301', '94041', '95113'])]\n",
    "trip_cnt_zip2.head()"
   ]
  },
  {
   "cell_type": "markdown",
   "metadata": {},
   "source": [
    "### dataset 2: Weather"
   ]
  },
  {
   "cell_type": "code",
   "execution_count": 12,
   "metadata": {},
   "outputs": [],
   "source": [
    "weather = pd.read_csv(r\"C:\\Users\\Ujjwal Singh\\Desktop\\Pandas\\sf-bay-area-bike-share\\weather.csv\")"
   ]
  },
  {
   "cell_type": "code",
   "execution_count": 13,
   "metadata": {},
   "outputs": [
    {
     "data": {
      "text/plain": [
       "array([94107, 94063, 94301, 94041, 95113], dtype=int64)"
      ]
     },
     "execution_count": 13,
     "metadata": {},
     "output_type": "execute_result"
    }
   ],
   "source": [
    "weather.zip_code.unique()"
   ]
  },
  {
   "cell_type": "code",
   "execution_count": 14,
   "metadata": {},
   "outputs": [
    {
     "data": {
      "text/html": [
       "<div>\n",
       "<style scoped>\n",
       "    .dataframe tbody tr th:only-of-type {\n",
       "        vertical-align: middle;\n",
       "    }\n",
       "\n",
       "    .dataframe tbody tr th {\n",
       "        vertical-align: top;\n",
       "    }\n",
       "\n",
       "    .dataframe thead th {\n",
       "        text-align: right;\n",
       "    }\n",
       "</style>\n",
       "<table border=\"1\" class=\"dataframe\">\n",
       "  <thead>\n",
       "    <tr style=\"text-align: right;\">\n",
       "      <th></th>\n",
       "      <th>max_temperature_f</th>\n",
       "      <th>mean_temperature_f</th>\n",
       "      <th>min_temperature_f</th>\n",
       "      <th>max_dew_point_f</th>\n",
       "      <th>mean_dew_point_f</th>\n",
       "      <th>min_dew_point_f</th>\n",
       "      <th>max_humidity</th>\n",
       "      <th>mean_humidity</th>\n",
       "      <th>min_humidity</th>\n",
       "      <th>max_sea_level_pressure_inches</th>\n",
       "      <th>mean_sea_level_pressure_inches</th>\n",
       "      <th>min_sea_level_pressure_inches</th>\n",
       "      <th>max_visibility_miles</th>\n",
       "      <th>mean_visibility_miles</th>\n",
       "      <th>min_visibility_miles</th>\n",
       "      <th>max_wind_Speed_mph</th>\n",
       "      <th>mean_wind_speed_mph</th>\n",
       "      <th>max_gust_speed_mph</th>\n",
       "      <th>cloud_cover</th>\n",
       "      <th>wind_dir_degrees</th>\n",
       "      <th>zip_code</th>\n",
       "    </tr>\n",
       "  </thead>\n",
       "  <tbody>\n",
       "    <tr>\n",
       "      <th>count</th>\n",
       "      <td>3661.000000</td>\n",
       "      <td>3661.000000</td>\n",
       "      <td>3661.000000</td>\n",
       "      <td>3611.000000</td>\n",
       "      <td>3611.000000</td>\n",
       "      <td>3611.000000</td>\n",
       "      <td>3611.000000</td>\n",
       "      <td>3611.000000</td>\n",
       "      <td>3611.000000</td>\n",
       "      <td>3664.000000</td>\n",
       "      <td>3664.000000</td>\n",
       "      <td>3664.000000</td>\n",
       "      <td>3652.000000</td>\n",
       "      <td>3652.000000</td>\n",
       "      <td>3652.000000</td>\n",
       "      <td>3664.000000</td>\n",
       "      <td>3664.000000</td>\n",
       "      <td>2766.000000</td>\n",
       "      <td>3664.000000</td>\n",
       "      <td>3664.000000</td>\n",
       "      <td>3665.000000</td>\n",
       "    </tr>\n",
       "    <tr>\n",
       "      <th>mean</th>\n",
       "      <td>70.580989</td>\n",
       "      <td>61.348812</td>\n",
       "      <td>51.947282</td>\n",
       "      <td>53.149820</td>\n",
       "      <td>48.794794</td>\n",
       "      <td>44.306840</td>\n",
       "      <td>85.446968</td>\n",
       "      <td>67.256993</td>\n",
       "      <td>46.458045</td>\n",
       "      <td>30.074997</td>\n",
       "      <td>30.022290</td>\n",
       "      <td>29.965835</td>\n",
       "      <td>10.555312</td>\n",
       "      <td>9.822015</td>\n",
       "      <td>8.229737</td>\n",
       "      <td>16.398472</td>\n",
       "      <td>5.962063</td>\n",
       "      <td>22.299349</td>\n",
       "      <td>2.784389</td>\n",
       "      <td>266.605895</td>\n",
       "      <td>94325.000000</td>\n",
       "    </tr>\n",
       "    <tr>\n",
       "      <th>std</th>\n",
       "      <td>8.385572</td>\n",
       "      <td>7.234397</td>\n",
       "      <td>7.441444</td>\n",
       "      <td>6.885449</td>\n",
       "      <td>7.822281</td>\n",
       "      <td>9.355432</td>\n",
       "      <td>9.226972</td>\n",
       "      <td>10.945591</td>\n",
       "      <td>14.434784</td>\n",
       "      <td>0.134492</td>\n",
       "      <td>0.130795</td>\n",
       "      <td>0.133476</td>\n",
       "      <td>2.193828</td>\n",
       "      <td>1.469894</td>\n",
       "      <td>2.862132</td>\n",
       "      <td>7.787588</td>\n",
       "      <td>3.340603</td>\n",
       "      <td>9.618813</td>\n",
       "      <td>2.276401</td>\n",
       "      <td>102.047645</td>\n",
       "      <td>404.615212</td>\n",
       "    </tr>\n",
       "    <tr>\n",
       "      <th>min</th>\n",
       "      <td>44.000000</td>\n",
       "      <td>38.000000</td>\n",
       "      <td>25.000000</td>\n",
       "      <td>20.000000</td>\n",
       "      <td>13.000000</td>\n",
       "      <td>2.000000</td>\n",
       "      <td>24.000000</td>\n",
       "      <td>24.000000</td>\n",
       "      <td>4.000000</td>\n",
       "      <td>29.500000</td>\n",
       "      <td>29.430000</td>\n",
       "      <td>28.980000</td>\n",
       "      <td>5.000000</td>\n",
       "      <td>4.000000</td>\n",
       "      <td>0.000000</td>\n",
       "      <td>0.000000</td>\n",
       "      <td>0.000000</td>\n",
       "      <td>6.000000</td>\n",
       "      <td>0.000000</td>\n",
       "      <td>0.000000</td>\n",
       "      <td>94041.000000</td>\n",
       "    </tr>\n",
       "    <tr>\n",
       "      <th>25%</th>\n",
       "      <td>64.000000</td>\n",
       "      <td>56.000000</td>\n",
       "      <td>47.000000</td>\n",
       "      <td>49.000000</td>\n",
       "      <td>44.000000</td>\n",
       "      <td>39.000000</td>\n",
       "      <td>82.000000</td>\n",
       "      <td>62.000000</td>\n",
       "      <td>37.000000</td>\n",
       "      <td>29.980000</td>\n",
       "      <td>29.930000</td>\n",
       "      <td>29.880000</td>\n",
       "      <td>10.000000</td>\n",
       "      <td>10.000000</td>\n",
       "      <td>7.000000</td>\n",
       "      <td>13.000000</td>\n",
       "      <td>3.000000</td>\n",
       "      <td>17.000000</td>\n",
       "      <td>1.000000</td>\n",
       "      <td>254.000000</td>\n",
       "      <td>94063.000000</td>\n",
       "    </tr>\n",
       "    <tr>\n",
       "      <th>50%</th>\n",
       "      <td>70.000000</td>\n",
       "      <td>61.000000</td>\n",
       "      <td>53.000000</td>\n",
       "      <td>54.000000</td>\n",
       "      <td>49.000000</td>\n",
       "      <td>46.000000</td>\n",
       "      <td>86.000000</td>\n",
       "      <td>68.000000</td>\n",
       "      <td>48.000000</td>\n",
       "      <td>30.060000</td>\n",
       "      <td>30.010000</td>\n",
       "      <td>29.950000</td>\n",
       "      <td>10.000000</td>\n",
       "      <td>10.000000</td>\n",
       "      <td>10.000000</td>\n",
       "      <td>16.000000</td>\n",
       "      <td>6.000000</td>\n",
       "      <td>22.000000</td>\n",
       "      <td>3.000000</td>\n",
       "      <td>297.000000</td>\n",
       "      <td>94107.000000</td>\n",
       "    </tr>\n",
       "    <tr>\n",
       "      <th>75%</th>\n",
       "      <td>77.000000</td>\n",
       "      <td>67.000000</td>\n",
       "      <td>58.000000</td>\n",
       "      <td>58.000000</td>\n",
       "      <td>55.000000</td>\n",
       "      <td>52.000000</td>\n",
       "      <td>93.000000</td>\n",
       "      <td>74.000000</td>\n",
       "      <td>56.000000</td>\n",
       "      <td>30.170000</td>\n",
       "      <td>30.110000</td>\n",
       "      <td>30.050000</td>\n",
       "      <td>10.000000</td>\n",
       "      <td>10.000000</td>\n",
       "      <td>10.000000</td>\n",
       "      <td>20.000000</td>\n",
       "      <td>8.000000</td>\n",
       "      <td>25.000000</td>\n",
       "      <td>5.000000</td>\n",
       "      <td>330.000000</td>\n",
       "      <td>94301.000000</td>\n",
       "    </tr>\n",
       "    <tr>\n",
       "      <th>max</th>\n",
       "      <td>102.000000</td>\n",
       "      <td>84.000000</td>\n",
       "      <td>75.000000</td>\n",
       "      <td>68.000000</td>\n",
       "      <td>65.000000</td>\n",
       "      <td>63.000000</td>\n",
       "      <td>100.000000</td>\n",
       "      <td>96.000000</td>\n",
       "      <td>93.000000</td>\n",
       "      <td>30.650000</td>\n",
       "      <td>30.410000</td>\n",
       "      <td>30.370000</td>\n",
       "      <td>20.000000</td>\n",
       "      <td>20.000000</td>\n",
       "      <td>20.000000</td>\n",
       "      <td>128.000000</td>\n",
       "      <td>23.000000</td>\n",
       "      <td>114.000000</td>\n",
       "      <td>8.000000</td>\n",
       "      <td>2772.000000</td>\n",
       "      <td>95113.000000</td>\n",
       "    </tr>\n",
       "  </tbody>\n",
       "</table>\n",
       "</div>"
      ],
      "text/plain": [
       "       max_temperature_f  mean_temperature_f  min_temperature_f  \\\n",
       "count        3661.000000         3661.000000        3661.000000   \n",
       "mean           70.580989           61.348812          51.947282   \n",
       "std             8.385572            7.234397           7.441444   \n",
       "min            44.000000           38.000000          25.000000   \n",
       "25%            64.000000           56.000000          47.000000   \n",
       "50%            70.000000           61.000000          53.000000   \n",
       "75%            77.000000           67.000000          58.000000   \n",
       "max           102.000000           84.000000          75.000000   \n",
       "\n",
       "       max_dew_point_f  mean_dew_point_f  min_dew_point_f  max_humidity  \\\n",
       "count      3611.000000       3611.000000      3611.000000   3611.000000   \n",
       "mean         53.149820         48.794794        44.306840     85.446968   \n",
       "std           6.885449          7.822281         9.355432      9.226972   \n",
       "min          20.000000         13.000000         2.000000     24.000000   \n",
       "25%          49.000000         44.000000        39.000000     82.000000   \n",
       "50%          54.000000         49.000000        46.000000     86.000000   \n",
       "75%          58.000000         55.000000        52.000000     93.000000   \n",
       "max          68.000000         65.000000        63.000000    100.000000   \n",
       "\n",
       "       mean_humidity  min_humidity  max_sea_level_pressure_inches  \\\n",
       "count    3611.000000   3611.000000                    3664.000000   \n",
       "mean       67.256993     46.458045                      30.074997   \n",
       "std        10.945591     14.434784                       0.134492   \n",
       "min        24.000000      4.000000                      29.500000   \n",
       "25%        62.000000     37.000000                      29.980000   \n",
       "50%        68.000000     48.000000                      30.060000   \n",
       "75%        74.000000     56.000000                      30.170000   \n",
       "max        96.000000     93.000000                      30.650000   \n",
       "\n",
       "       mean_sea_level_pressure_inches  min_sea_level_pressure_inches  \\\n",
       "count                     3664.000000                    3664.000000   \n",
       "mean                        30.022290                      29.965835   \n",
       "std                          0.130795                       0.133476   \n",
       "min                         29.430000                      28.980000   \n",
       "25%                         29.930000                      29.880000   \n",
       "50%                         30.010000                      29.950000   \n",
       "75%                         30.110000                      30.050000   \n",
       "max                         30.410000                      30.370000   \n",
       "\n",
       "       max_visibility_miles  mean_visibility_miles  min_visibility_miles  \\\n",
       "count           3652.000000            3652.000000           3652.000000   \n",
       "mean              10.555312               9.822015              8.229737   \n",
       "std                2.193828               1.469894              2.862132   \n",
       "min                5.000000               4.000000              0.000000   \n",
       "25%               10.000000              10.000000              7.000000   \n",
       "50%               10.000000              10.000000             10.000000   \n",
       "75%               10.000000              10.000000             10.000000   \n",
       "max               20.000000              20.000000             20.000000   \n",
       "\n",
       "       max_wind_Speed_mph  mean_wind_speed_mph  max_gust_speed_mph  \\\n",
       "count         3664.000000          3664.000000         2766.000000   \n",
       "mean            16.398472             5.962063           22.299349   \n",
       "std              7.787588             3.340603            9.618813   \n",
       "min              0.000000             0.000000            6.000000   \n",
       "25%             13.000000             3.000000           17.000000   \n",
       "50%             16.000000             6.000000           22.000000   \n",
       "75%             20.000000             8.000000           25.000000   \n",
       "max            128.000000            23.000000          114.000000   \n",
       "\n",
       "       cloud_cover  wind_dir_degrees      zip_code  \n",
       "count  3664.000000       3664.000000   3665.000000  \n",
       "mean      2.784389        266.605895  94325.000000  \n",
       "std       2.276401        102.047645    404.615212  \n",
       "min       0.000000          0.000000  94041.000000  \n",
       "25%       1.000000        254.000000  94063.000000  \n",
       "50%       3.000000        297.000000  94107.000000  \n",
       "75%       5.000000        330.000000  94301.000000  \n",
       "max       8.000000       2772.000000  95113.000000  "
      ]
     },
     "execution_count": 14,
     "metadata": {},
     "output_type": "execute_result"
    }
   ],
   "source": [
    "weather.describe()"
   ]
  },
  {
   "cell_type": "code",
   "execution_count": 15,
   "metadata": {},
   "outputs": [],
   "source": [
    "#dropping all the extreme columns which are not needed in the model\n",
    "\n",
    "weather = weather.drop(['max_dew_point_f','mean_dew_point_f','min_dew_point_f','max_sea_level_pressure_inches','mean_sea_level_pressure_inches',\n",
    "                        'min_sea_level_pressure_inches','max_wind_Speed_mph','max_gust_speed_mph','wind_dir_degrees',\n",
    "                        'max_temperature_f','min_temperature_f','max_humidity','min_humidity','max_visibility_miles','min_visibility_miles',\n",
    "                        'cloud_cover'], axis =1)"
   ]
  },
  {
   "cell_type": "code",
   "execution_count": 16,
   "metadata": {},
   "outputs": [],
   "source": [
    "weather.date = pd.to_datetime(weather.date, format='%m/%d/%Y')"
   ]
  },
  {
   "cell_type": "code",
   "execution_count": 17,
   "metadata": {},
   "outputs": [
    {
     "data": {
      "text/html": [
       "<div>\n",
       "<style scoped>\n",
       "    .dataframe tbody tr th:only-of-type {\n",
       "        vertical-align: middle;\n",
       "    }\n",
       "\n",
       "    .dataframe tbody tr th {\n",
       "        vertical-align: top;\n",
       "    }\n",
       "\n",
       "    .dataframe thead th {\n",
       "        text-align: right;\n",
       "    }\n",
       "</style>\n",
       "<table border=\"1\" class=\"dataframe\">\n",
       "  <thead>\n",
       "    <tr style=\"text-align: right;\">\n",
       "      <th></th>\n",
       "      <th>date</th>\n",
       "      <th>mean_temperature_f</th>\n",
       "      <th>mean_humidity</th>\n",
       "      <th>mean_visibility_miles</th>\n",
       "      <th>mean_wind_speed_mph</th>\n",
       "      <th>precipitation_inches</th>\n",
       "      <th>events</th>\n",
       "      <th>zip_code</th>\n",
       "    </tr>\n",
       "  </thead>\n",
       "  <tbody>\n",
       "    <tr>\n",
       "      <th>0</th>\n",
       "      <td>2013-08-29</td>\n",
       "      <td>68.0</td>\n",
       "      <td>75.0</td>\n",
       "      <td>10.0</td>\n",
       "      <td>11.0</td>\n",
       "      <td>0</td>\n",
       "      <td>NaN</td>\n",
       "      <td>94107</td>\n",
       "    </tr>\n",
       "    <tr>\n",
       "      <th>1</th>\n",
       "      <td>2013-08-30</td>\n",
       "      <td>69.0</td>\n",
       "      <td>70.0</td>\n",
       "      <td>10.0</td>\n",
       "      <td>13.0</td>\n",
       "      <td>0</td>\n",
       "      <td>NaN</td>\n",
       "      <td>94107</td>\n",
       "    </tr>\n",
       "    <tr>\n",
       "      <th>2</th>\n",
       "      <td>2013-08-31</td>\n",
       "      <td>64.0</td>\n",
       "      <td>75.0</td>\n",
       "      <td>10.0</td>\n",
       "      <td>15.0</td>\n",
       "      <td>0</td>\n",
       "      <td>NaN</td>\n",
       "      <td>94107</td>\n",
       "    </tr>\n",
       "    <tr>\n",
       "      <th>3</th>\n",
       "      <td>2013-09-01</td>\n",
       "      <td>66.0</td>\n",
       "      <td>68.0</td>\n",
       "      <td>10.0</td>\n",
       "      <td>13.0</td>\n",
       "      <td>0</td>\n",
       "      <td>NaN</td>\n",
       "      <td>94107</td>\n",
       "    </tr>\n",
       "    <tr>\n",
       "      <th>4</th>\n",
       "      <td>2013-09-02</td>\n",
       "      <td>69.0</td>\n",
       "      <td>77.0</td>\n",
       "      <td>10.0</td>\n",
       "      <td>12.0</td>\n",
       "      <td>0</td>\n",
       "      <td>NaN</td>\n",
       "      <td>94107</td>\n",
       "    </tr>\n",
       "  </tbody>\n",
       "</table>\n",
       "</div>"
      ],
      "text/plain": [
       "        date  mean_temperature_f  mean_humidity  mean_visibility_miles  \\\n",
       "0 2013-08-29                68.0           75.0                   10.0   \n",
       "1 2013-08-30                69.0           70.0                   10.0   \n",
       "2 2013-08-31                64.0           75.0                   10.0   \n",
       "3 2013-09-01                66.0           68.0                   10.0   \n",
       "4 2013-09-02                69.0           77.0                   10.0   \n",
       "\n",
       "   mean_wind_speed_mph precipitation_inches events  zip_code  \n",
       "0                 11.0                    0    NaN     94107  \n",
       "1                 13.0                    0    NaN     94107  \n",
       "2                 15.0                    0    NaN     94107  \n",
       "3                 13.0                    0    NaN     94107  \n",
       "4                 12.0                    0    NaN     94107  "
      ]
     },
     "execution_count": 17,
     "metadata": {},
     "output_type": "execute_result"
    }
   ],
   "source": [
    "weather.head()"
   ]
  },
  {
   "cell_type": "code",
   "execution_count": 18,
   "metadata": {},
   "outputs": [
    {
     "data": {
      "text/plain": [
       "array([nan, 'Fog', 'Rain', 'Fog-Rain', 'rain', 'Rain-Thunderstorm'],\n",
       "      dtype=object)"
      ]
     },
     "execution_count": 18,
     "metadata": {},
     "output_type": "execute_result"
    }
   ],
   "source": [
    "#events shows us the weather condition of that day and zip code\n",
    "weather.events.unique()"
   ]
  },
  {
   "cell_type": "code",
   "execution_count": 19,
   "metadata": {},
   "outputs": [],
   "source": [
    "#imputing null values from events as Normal\n",
    "weather.loc[weather.events == 'rain', 'events'] = \"Rain\"\n",
    "weather.loc[weather.events.isnull(), 'events'] = \"Normal\""
   ]
  },
  {
   "cell_type": "code",
   "execution_count": 20,
   "metadata": {},
   "outputs": [
    {
     "data": {
      "text/plain": [
       "array(['Normal', 'Fog', 'Rain', 'Fog-Rain', 'Rain-Thunderstorm'],\n",
       "      dtype=object)"
      ]
     },
     "execution_count": 20,
     "metadata": {},
     "output_type": "execute_result"
    }
   ],
   "source": [
    "weather.events.unique()"
   ]
  },
  {
   "cell_type": "code",
   "execution_count": 21,
   "metadata": {},
   "outputs": [
    {
     "data": {
      "text/plain": [
       "date                      0\n",
       "mean_temperature_f        4\n",
       "mean_humidity            54\n",
       "mean_visibility_miles    13\n",
       "mean_wind_speed_mph       1\n",
       "precipitation_inches      1\n",
       "events                    0\n",
       "zip_code                  0\n",
       "dtype: int64"
      ]
     },
     "execution_count": 21,
     "metadata": {},
     "output_type": "execute_result"
    }
   ],
   "source": [
    "weather.isnull().sum()"
   ]
  },
  {
   "cell_type": "code",
   "execution_count": 22,
   "metadata": {},
   "outputs": [
    {
     "data": {
      "text/plain": [
       "array(['0', '0.23', 'T', '0.01', '0.28', '0.63', '0.29', '0.06', '0.85',\n",
       "       '0.09', '0.64', '0.42', '0.35', '0.43', '0.22', '0.74', '0.03',\n",
       "       '0.12', '0.16', '0.49', '0.17', '0.08', '0.04', '0.53', '0.07',\n",
       "       '0.02', '0.83', '1.06', '1.71', '0.37', '0.27', '0.45', '0.78',\n",
       "       '0.88', '0.66', '0.47', '0.1', '0.61', '0.14', '0.05', '0.68',\n",
       "       '0.97', '0.26', '0.15', '0.87', '0.57', '0.69', '0.32', '0.21',\n",
       "       '0.24', '0.52', '0.36', '0.33', '0.25', '0.11', '0.2', '1.18',\n",
       "       '1.43', '3.12', '0.48', '0.19', '1.09', '0.65', '0.13', '0.91',\n",
       "       '0.99', '0.18', '0.4', '1.07', nan, '0.41', '0.34', '1.25', '1.85',\n",
       "       '3.36', '0.71', '1.3', '0.72', '0.6', '0.51', '1.2', '1.28',\n",
       "       '3.23', '0.55', '1.26', '0.39'], dtype=object)"
      ]
     },
     "execution_count": 22,
     "metadata": {},
     "output_type": "execute_result"
    }
   ],
   "source": [
    "weather.precipitation_inches.unique()"
   ]
  },
  {
   "cell_type": "code",
   "execution_count": 23,
   "metadata": {},
   "outputs": [],
   "source": [
    "#T in precipitation means trace which is almost neglegible <0.01 so imputing with 0.01\n",
    "weather.precipitation_inches.replace('T', '0.01', inplace=True)"
   ]
  },
  {
   "cell_type": "code",
   "execution_count": 24,
   "metadata": {},
   "outputs": [],
   "source": [
    "#converting string to float for precipitation.\n",
    "weather.precipitation_inches = weather.precipitation_inches.astype(float)"
   ]
  },
  {
   "cell_type": "code",
   "execution_count": 25,
   "metadata": {},
   "outputs": [],
   "source": [
    "#imputing all NaN values by median()\n",
    "weather['mean_temperature_f'] = weather['mean_temperature_f'].fillna(weather.mean_temperature_f.median())\n",
    "weather['precipitation_inches'] = weather['precipitation_inches'].fillna(weather.precipitation_inches.median())\n",
    "weather['mean_visibility_miles'] = weather['mean_visibility_miles'].fillna(weather.mean_visibility_miles.median())\n",
    "weather['mean_humidity'] = weather['mean_humidity'].fillna(weather.mean_humidity.median())\n",
    "weather['mean_wind_speed_mph'] = weather['mean_wind_speed_mph'].fillna(weather.mean_wind_speed_mph.median())"
   ]
  },
  {
   "cell_type": "code",
   "execution_count": 26,
   "metadata": {},
   "outputs": [
    {
     "data": {
      "text/plain": [
       "date                     0\n",
       "mean_temperature_f       0\n",
       "mean_humidity            0\n",
       "mean_visibility_miles    0\n",
       "mean_wind_speed_mph      0\n",
       "precipitation_inches     0\n",
       "events                   0\n",
       "zip_code                 0\n",
       "dtype: int64"
      ]
     },
     "execution_count": 26,
     "metadata": {},
     "output_type": "execute_result"
    }
   ],
   "source": [
    "weather.isnull().sum()"
   ]
  },
  {
   "cell_type": "code",
   "execution_count": 27,
   "metadata": {},
   "outputs": [
    {
     "data": {
      "text/html": [
       "<div>\n",
       "<style scoped>\n",
       "    .dataframe tbody tr th:only-of-type {\n",
       "        vertical-align: middle;\n",
       "    }\n",
       "\n",
       "    .dataframe tbody tr th {\n",
       "        vertical-align: top;\n",
       "    }\n",
       "\n",
       "    .dataframe thead th {\n",
       "        text-align: right;\n",
       "    }\n",
       "</style>\n",
       "<table border=\"1\" class=\"dataframe\">\n",
       "  <thead>\n",
       "    <tr style=\"text-align: right;\">\n",
       "      <th></th>\n",
       "      <th>date</th>\n",
       "      <th>mean_temperature_f</th>\n",
       "      <th>mean_humidity</th>\n",
       "      <th>mean_visibility_miles</th>\n",
       "      <th>mean_wind_speed_mph</th>\n",
       "      <th>precipitation_inches</th>\n",
       "      <th>events</th>\n",
       "      <th>zip_code</th>\n",
       "    </tr>\n",
       "  </thead>\n",
       "  <tbody>\n",
       "    <tr>\n",
       "      <th>0</th>\n",
       "      <td>2013-08-29</td>\n",
       "      <td>68.0</td>\n",
       "      <td>75.0</td>\n",
       "      <td>10.0</td>\n",
       "      <td>11.0</td>\n",
       "      <td>0.0</td>\n",
       "      <td>Normal</td>\n",
       "      <td>94107</td>\n",
       "    </tr>\n",
       "    <tr>\n",
       "      <th>552</th>\n",
       "      <td>2013-08-29</td>\n",
       "      <td>70.0</td>\n",
       "      <td>72.0</td>\n",
       "      <td>10.0</td>\n",
       "      <td>5.0</td>\n",
       "      <td>0.0</td>\n",
       "      <td>Normal</td>\n",
       "      <td>94041</td>\n",
       "    </tr>\n",
       "    <tr>\n",
       "      <th>368</th>\n",
       "      <td>2013-08-29</td>\n",
       "      <td>71.0</td>\n",
       "      <td>71.0</td>\n",
       "      <td>10.0</td>\n",
       "      <td>8.0</td>\n",
       "      <td>0.0</td>\n",
       "      <td>Normal</td>\n",
       "      <td>94301</td>\n",
       "    </tr>\n",
       "    <tr>\n",
       "      <th>184</th>\n",
       "      <td>2013-08-29</td>\n",
       "      <td>71.0</td>\n",
       "      <td>79.0</td>\n",
       "      <td>10.0</td>\n",
       "      <td>6.0</td>\n",
       "      <td>0.0</td>\n",
       "      <td>Normal</td>\n",
       "      <td>94063</td>\n",
       "    </tr>\n",
       "    <tr>\n",
       "      <th>736</th>\n",
       "      <td>2013-08-29</td>\n",
       "      <td>72.0</td>\n",
       "      <td>69.0</td>\n",
       "      <td>10.0</td>\n",
       "      <td>7.0</td>\n",
       "      <td>0.0</td>\n",
       "      <td>Normal</td>\n",
       "      <td>95113</td>\n",
       "    </tr>\n",
       "  </tbody>\n",
       "</table>\n",
       "</div>"
      ],
      "text/plain": [
       "          date  mean_temperature_f  mean_humidity  mean_visibility_miles  \\\n",
       "0   2013-08-29                68.0           75.0                   10.0   \n",
       "552 2013-08-29                70.0           72.0                   10.0   \n",
       "368 2013-08-29                71.0           71.0                   10.0   \n",
       "184 2013-08-29                71.0           79.0                   10.0   \n",
       "736 2013-08-29                72.0           69.0                   10.0   \n",
       "\n",
       "     mean_wind_speed_mph  precipitation_inches  events  zip_code  \n",
       "0                   11.0                   0.0  Normal     94107  \n",
       "552                  5.0                   0.0  Normal     94041  \n",
       "368                  8.0                   0.0  Normal     94301  \n",
       "184                  6.0                   0.0  Normal     94063  \n",
       "736                  7.0                   0.0  Normal     95113  "
      ]
     },
     "execution_count": 27,
     "metadata": {},
     "output_type": "execute_result"
    }
   ],
   "source": [
    "weather.sort_values(by='date').head()"
   ]
  },
  {
   "cell_type": "markdown",
   "metadata": {},
   "source": [
    "### Merging 'weather' with 'trip_cnt' and creating a new dataframe 'train'"
   ]
  },
  {
   "cell_type": "code",
   "execution_count": 33,
   "metadata": {},
   "outputs": [
    {
     "data": {
      "text/plain": [
       "Normal               601\n",
       "Rain                 124\n",
       "Fog                    4\n",
       "Rain-Thunderstorm      3\n",
       "Fog-Rain               1\n",
       "Name: events, dtype: int64"
      ]
     },
     "execution_count": 33,
     "metadata": {},
     "output_type": "execute_result"
    }
   ],
   "source": [
    "#Aggregating the weather data by date and zip_code\n",
    "weather2 = weather.groupby(['date'], as_index= False).agg({'mean_temperature_f':'mean','mean_humidity':'mean','mean_visibility_miles':'mean','mean_wind_speed_mph':'mean','precipitation_inches':'mean','events':'max'})\n",
    "#trip_cnt.rename(columns = {'trip_id':'trips'}, inplace=True)\n",
    "weather2.events.value_counts()"
   ]
  },
  {
   "cell_type": "code",
   "execution_count": 35,
   "metadata": {},
   "outputs": [
    {
     "data": {
      "text/html": [
       "<div>\n",
       "<style scoped>\n",
       "    .dataframe tbody tr th:only-of-type {\n",
       "        vertical-align: middle;\n",
       "    }\n",
       "\n",
       "    .dataframe tbody tr th {\n",
       "        vertical-align: top;\n",
       "    }\n",
       "\n",
       "    .dataframe thead th {\n",
       "        text-align: right;\n",
       "    }\n",
       "</style>\n",
       "<table border=\"1\" class=\"dataframe\">\n",
       "  <thead>\n",
       "    <tr style=\"text-align: right;\">\n",
       "      <th></th>\n",
       "      <th>key_0</th>\n",
       "      <th>date_x</th>\n",
       "      <th>mean_temperature_f</th>\n",
       "      <th>mean_humidity</th>\n",
       "      <th>mean_visibility_miles</th>\n",
       "      <th>mean_wind_speed_mph</th>\n",
       "      <th>precipitation_inches</th>\n",
       "      <th>events</th>\n",
       "      <th>date_y</th>\n",
       "      <th>trips</th>\n",
       "    </tr>\n",
       "  </thead>\n",
       "  <tbody>\n",
       "    <tr>\n",
       "      <th>0</th>\n",
       "      <td>2013-08-29</td>\n",
       "      <td>2013-08-29</td>\n",
       "      <td>70.4</td>\n",
       "      <td>73.2</td>\n",
       "      <td>10.0</td>\n",
       "      <td>7.4</td>\n",
       "      <td>0.000</td>\n",
       "      <td>Normal</td>\n",
       "      <td>2013-08-29</td>\n",
       "      <td>748</td>\n",
       "    </tr>\n",
       "    <tr>\n",
       "      <th>1</th>\n",
       "      <td>2013-08-30</td>\n",
       "      <td>2013-08-30</td>\n",
       "      <td>73.0</td>\n",
       "      <td>68.8</td>\n",
       "      <td>10.0</td>\n",
       "      <td>5.6</td>\n",
       "      <td>0.000</td>\n",
       "      <td>Normal</td>\n",
       "      <td>2013-08-30</td>\n",
       "      <td>714</td>\n",
       "    </tr>\n",
       "    <tr>\n",
       "      <th>2</th>\n",
       "      <td>2013-08-31</td>\n",
       "      <td>2013-08-31</td>\n",
       "      <td>68.0</td>\n",
       "      <td>70.8</td>\n",
       "      <td>10.0</td>\n",
       "      <td>7.4</td>\n",
       "      <td>0.000</td>\n",
       "      <td>Normal</td>\n",
       "      <td>2013-08-31</td>\n",
       "      <td>640</td>\n",
       "    </tr>\n",
       "    <tr>\n",
       "      <th>3</th>\n",
       "      <td>2013-09-01</td>\n",
       "      <td>2013-09-01</td>\n",
       "      <td>70.0</td>\n",
       "      <td>66.8</td>\n",
       "      <td>10.0</td>\n",
       "      <td>7.2</td>\n",
       "      <td>0.000</td>\n",
       "      <td>Normal</td>\n",
       "      <td>2013-09-01</td>\n",
       "      <td>706</td>\n",
       "    </tr>\n",
       "    <tr>\n",
       "      <th>4</th>\n",
       "      <td>2013-09-02</td>\n",
       "      <td>2013-09-02</td>\n",
       "      <td>70.8</td>\n",
       "      <td>74.0</td>\n",
       "      <td>10.0</td>\n",
       "      <td>7.4</td>\n",
       "      <td>0.004</td>\n",
       "      <td>Rain</td>\n",
       "      <td>2013-09-02</td>\n",
       "      <td>661</td>\n",
       "    </tr>\n",
       "  </tbody>\n",
       "</table>\n",
       "</div>"
      ],
      "text/plain": [
       "       key_0     date_x  mean_temperature_f  mean_humidity  \\\n",
       "0 2013-08-29 2013-08-29                70.4           73.2   \n",
       "1 2013-08-30 2013-08-30                73.0           68.8   \n",
       "2 2013-08-31 2013-08-31                68.0           70.8   \n",
       "3 2013-09-01 2013-09-01                70.0           66.8   \n",
       "4 2013-09-02 2013-09-02                70.8           74.0   \n",
       "\n",
       "   mean_visibility_miles  mean_wind_speed_mph  precipitation_inches  events  \\\n",
       "0                   10.0                  7.4                 0.000  Normal   \n",
       "1                   10.0                  5.6                 0.000  Normal   \n",
       "2                   10.0                  7.4                 0.000  Normal   \n",
       "3                   10.0                  7.2                 0.000  Normal   \n",
       "4                   10.0                  7.4                 0.004    Rain   \n",
       "\n",
       "      date_y  trips  \n",
       "0 2013-08-29    748  \n",
       "1 2013-08-30    714  \n",
       "2 2013-08-31    640  \n",
       "3 2013-09-01    706  \n",
       "4 2013-09-02    661  "
      ]
     },
     "execution_count": 35,
     "metadata": {},
     "output_type": "execute_result"
    }
   ],
   "source": [
    "#merge the total trips and weather data frames on date.\n",
    "train = weather2.merge(trip_cnt, left_on=[weather2.date], right_on=[trip_cnt.date])\n",
    "train.head()"
   ]
  },
  {
   "cell_type": "code",
   "execution_count": 36,
   "metadata": {},
   "outputs": [
    {
     "data": {
      "text/html": [
       "<div>\n",
       "<style scoped>\n",
       "    .dataframe tbody tr th:only-of-type {\n",
       "        vertical-align: middle;\n",
       "    }\n",
       "\n",
       "    .dataframe tbody tr th {\n",
       "        vertical-align: top;\n",
       "    }\n",
       "\n",
       "    .dataframe thead th {\n",
       "        text-align: right;\n",
       "    }\n",
       "</style>\n",
       "<table border=\"1\" class=\"dataframe\">\n",
       "  <thead>\n",
       "    <tr style=\"text-align: right;\">\n",
       "      <th></th>\n",
       "      <th>date</th>\n",
       "      <th>mean_temperature_f</th>\n",
       "      <th>mean_humidity</th>\n",
       "      <th>mean_visibility_miles</th>\n",
       "      <th>mean_wind_speed_mph</th>\n",
       "      <th>precipitation_inches</th>\n",
       "      <th>events</th>\n",
       "      <th>trips</th>\n",
       "    </tr>\n",
       "  </thead>\n",
       "  <tbody>\n",
       "    <tr>\n",
       "      <th>0</th>\n",
       "      <td>2013-08-29</td>\n",
       "      <td>70.4</td>\n",
       "      <td>73.2</td>\n",
       "      <td>10.0</td>\n",
       "      <td>7.4</td>\n",
       "      <td>0.000</td>\n",
       "      <td>Normal</td>\n",
       "      <td>748</td>\n",
       "    </tr>\n",
       "    <tr>\n",
       "      <th>1</th>\n",
       "      <td>2013-08-30</td>\n",
       "      <td>73.0</td>\n",
       "      <td>68.8</td>\n",
       "      <td>10.0</td>\n",
       "      <td>5.6</td>\n",
       "      <td>0.000</td>\n",
       "      <td>Normal</td>\n",
       "      <td>714</td>\n",
       "    </tr>\n",
       "    <tr>\n",
       "      <th>2</th>\n",
       "      <td>2013-08-31</td>\n",
       "      <td>68.0</td>\n",
       "      <td>70.8</td>\n",
       "      <td>10.0</td>\n",
       "      <td>7.4</td>\n",
       "      <td>0.000</td>\n",
       "      <td>Normal</td>\n",
       "      <td>640</td>\n",
       "    </tr>\n",
       "    <tr>\n",
       "      <th>3</th>\n",
       "      <td>2013-09-01</td>\n",
       "      <td>70.0</td>\n",
       "      <td>66.8</td>\n",
       "      <td>10.0</td>\n",
       "      <td>7.2</td>\n",
       "      <td>0.000</td>\n",
       "      <td>Normal</td>\n",
       "      <td>706</td>\n",
       "    </tr>\n",
       "    <tr>\n",
       "      <th>4</th>\n",
       "      <td>2013-09-02</td>\n",
       "      <td>70.8</td>\n",
       "      <td>74.0</td>\n",
       "      <td>10.0</td>\n",
       "      <td>7.4</td>\n",
       "      <td>0.004</td>\n",
       "      <td>Rain</td>\n",
       "      <td>661</td>\n",
       "    </tr>\n",
       "  </tbody>\n",
       "</table>\n",
       "</div>"
      ],
      "text/plain": [
       "        date  mean_temperature_f  mean_humidity  mean_visibility_miles  \\\n",
       "0 2013-08-29                70.4           73.2                   10.0   \n",
       "1 2013-08-30                73.0           68.8                   10.0   \n",
       "2 2013-08-31                68.0           70.8                   10.0   \n",
       "3 2013-09-01                70.0           66.8                   10.0   \n",
       "4 2013-09-02                70.8           74.0                   10.0   \n",
       "\n",
       "   mean_wind_speed_mph  precipitation_inches  events  trips  \n",
       "0                  7.4                 0.000  Normal    748  \n",
       "1                  5.6                 0.000  Normal    714  \n",
       "2                  7.4                 0.000  Normal    640  \n",
       "3                  7.2                 0.000  Normal    706  \n",
       "4                  7.4                 0.004    Rain    661  "
      ]
     },
     "execution_count": 36,
     "metadata": {},
     "output_type": "execute_result"
    }
   ],
   "source": [
    "#dropping duplicate keys\n",
    "train.drop(['key_0','date_y'], axis=1, inplace=True)\n",
    "train.rename(columns={'date_x':'date'}, inplace=True)\n",
    "train.head()"
   ]
  },
  {
   "cell_type": "code",
   "execution_count": 37,
   "metadata": {},
   "outputs": [],
   "source": [
    "#Convert date to year, month, weekday (0 = Monday, 1 = Tuesday...)\n",
    "train['year'] = pd.to_datetime(train['date']).dt.year\n",
    "train['month'] = pd.to_datetime(train['date']).dt.month\n",
    "train['weekday'] = pd.to_datetime(train['date']).dt.weekday"
   ]
  },
  {
   "cell_type": "code",
   "execution_count": 41,
   "metadata": {},
   "outputs": [
    {
     "data": {
      "text/html": [
       "<div>\n",
       "<style scoped>\n",
       "    .dataframe tbody tr th:only-of-type {\n",
       "        vertical-align: middle;\n",
       "    }\n",
       "\n",
       "    .dataframe tbody tr th {\n",
       "        vertical-align: top;\n",
       "    }\n",
       "\n",
       "    .dataframe thead th {\n",
       "        text-align: right;\n",
       "    }\n",
       "</style>\n",
       "<table border=\"1\" class=\"dataframe\">\n",
       "  <thead>\n",
       "    <tr style=\"text-align: right;\">\n",
       "      <th></th>\n",
       "      <th>date</th>\n",
       "      <th>mean_temperature_f</th>\n",
       "      <th>mean_humidity</th>\n",
       "      <th>mean_visibility_miles</th>\n",
       "      <th>mean_wind_speed_mph</th>\n",
       "      <th>precipitation_inches</th>\n",
       "      <th>events</th>\n",
       "      <th>trips</th>\n",
       "      <th>year</th>\n",
       "      <th>month</th>\n",
       "      <th>weekday</th>\n",
       "    </tr>\n",
       "  </thead>\n",
       "  <tbody>\n",
       "    <tr>\n",
       "      <th>0</th>\n",
       "      <td>2013-08-29</td>\n",
       "      <td>70.4</td>\n",
       "      <td>73.2</td>\n",
       "      <td>10.0</td>\n",
       "      <td>7.4</td>\n",
       "      <td>0.000</td>\n",
       "      <td>Normal</td>\n",
       "      <td>748</td>\n",
       "      <td>2013</td>\n",
       "      <td>8</td>\n",
       "      <td>3</td>\n",
       "    </tr>\n",
       "    <tr>\n",
       "      <th>1</th>\n",
       "      <td>2013-08-30</td>\n",
       "      <td>73.0</td>\n",
       "      <td>68.8</td>\n",
       "      <td>10.0</td>\n",
       "      <td>5.6</td>\n",
       "      <td>0.000</td>\n",
       "      <td>Normal</td>\n",
       "      <td>714</td>\n",
       "      <td>2013</td>\n",
       "      <td>8</td>\n",
       "      <td>4</td>\n",
       "    </tr>\n",
       "    <tr>\n",
       "      <th>2</th>\n",
       "      <td>2013-08-31</td>\n",
       "      <td>68.0</td>\n",
       "      <td>70.8</td>\n",
       "      <td>10.0</td>\n",
       "      <td>7.4</td>\n",
       "      <td>0.000</td>\n",
       "      <td>Normal</td>\n",
       "      <td>640</td>\n",
       "      <td>2013</td>\n",
       "      <td>8</td>\n",
       "      <td>5</td>\n",
       "    </tr>\n",
       "    <tr>\n",
       "      <th>3</th>\n",
       "      <td>2013-09-01</td>\n",
       "      <td>70.0</td>\n",
       "      <td>66.8</td>\n",
       "      <td>10.0</td>\n",
       "      <td>7.2</td>\n",
       "      <td>0.000</td>\n",
       "      <td>Normal</td>\n",
       "      <td>706</td>\n",
       "      <td>2013</td>\n",
       "      <td>9</td>\n",
       "      <td>6</td>\n",
       "    </tr>\n",
       "    <tr>\n",
       "      <th>4</th>\n",
       "      <td>2013-09-02</td>\n",
       "      <td>70.8</td>\n",
       "      <td>74.0</td>\n",
       "      <td>10.0</td>\n",
       "      <td>7.4</td>\n",
       "      <td>0.004</td>\n",
       "      <td>Rain</td>\n",
       "      <td>661</td>\n",
       "      <td>2013</td>\n",
       "      <td>9</td>\n",
       "      <td>0</td>\n",
       "    </tr>\n",
       "  </tbody>\n",
       "</table>\n",
       "</div>"
      ],
      "text/plain": [
       "        date  mean_temperature_f  mean_humidity  mean_visibility_miles  \\\n",
       "0 2013-08-29                70.4           73.2                   10.0   \n",
       "1 2013-08-30                73.0           68.8                   10.0   \n",
       "2 2013-08-31                68.0           70.8                   10.0   \n",
       "3 2013-09-01                70.0           66.8                   10.0   \n",
       "4 2013-09-02                70.8           74.0                   10.0   \n",
       "\n",
       "   mean_wind_speed_mph  precipitation_inches  events  trips  year  month  \\\n",
       "0                  7.4                 0.000  Normal    748  2013      8   \n",
       "1                  5.6                 0.000  Normal    714  2013      8   \n",
       "2                  7.4                 0.000  Normal    640  2013      8   \n",
       "3                  7.2                 0.000  Normal    706  2013      9   \n",
       "4                  7.4                 0.004    Rain    661  2013      9   \n",
       "\n",
       "   weekday  \n",
       "0        3  \n",
       "1        4  \n",
       "2        5  \n",
       "3        6  \n",
       "4        0  "
      ]
     },
     "execution_count": 41,
     "metadata": {},
     "output_type": "execute_result"
    }
   ],
   "source": [
    "train.head()"
   ]
  },
  {
   "cell_type": "code",
   "execution_count": 195,
   "metadata": {},
   "outputs": [],
   "source": [
    "train.to_csv('train.csv')"
   ]
  },
  {
   "cell_type": "markdown",
   "metadata": {},
   "source": [
    "## Modelling"
   ]
  },
  {
   "cell_type": "markdown",
   "metadata": {},
   "source": [
    "#### K-Means Clustering: We created clusters for different weather conditions and looked at the number of trips for each of these clusters. To come up with the optimal  number of clusters here, we used cluster inertia as a benchmark which is the sum of squared distances of sample to closest centroid of a cluster."
   ]
  },
  {
   "cell_type": "code",
   "execution_count": 31,
   "metadata": {},
   "outputs": [],
   "source": [
    "from scipy.spatial.distance import cdist, pdist\n",
    "from sklearn.cluster import KMeans"
   ]
  },
  {
   "cell_type": "code",
   "execution_count": 14,
   "metadata": {},
   "outputs": [
    {
     "name": "stdout",
     "output_type": "stream",
     "text": [
      "Index(['Unnamed: 0', 'date', 'mean_temperature_f', 'mean_humidity',\n",
      "       'mean_visibility_miles', 'mean_wind_speed_mph', 'precipitation_inches',\n",
      "       'events', 'Trips', 'total_docks', 'year', 'month', 'weekday'],\n",
      "      dtype='object')\n"
     ]
    }
   ],
   "source": [
    "data = pd.read_csv(r\"C:\\Users\\ujjwa\\OneDrive\\Desktop\\Github codes\\Academic Projects\\Data Mining\\sf-bay-area-bike-share\\train.csv\")\n",
    "print(data.columns)"
   ]
  },
  {
   "cell_type": "code",
   "execution_count": 17,
   "metadata": {},
   "outputs": [],
   "source": [
    "l = data.drop(columns = ['Unnamed: 0', 'date', 'events', 'Trips', 'total_docks', 'year', 'month', 'weekday'])"
   ]
  },
  {
   "cell_type": "code",
   "execution_count": 24,
   "metadata": {},
   "outputs": [],
   "source": [
    "X = np.array(l)\n",
    "Y = np.array(data['Trips'])"
   ]
  },
  {
   "cell_type": "code",
   "execution_count": 35,
   "metadata": {
    "scrolled": true
   },
   "outputs": [
    {
     "name": "stdout",
     "output_type": "stream",
     "text": [
      "110471.53059399727\n",
      "68744.90287410936\n",
      "50402.793109118415\n",
      "38794.64976983884\n",
      "33170.78053860908\n",
      "28925.667780135558\n",
      "25952.502835931882\n",
      "23605.986407973003\n",
      "21793.388857707345\n",
      "20219.13795382104\n",
      "18906.792786587903\n",
      "17987.154270756742\n",
      "16835.20523687941\n",
      "15929.376369814643\n",
      "14904.84337303433\n"
     ]
    }
   ],
   "source": [
    "for i in range(1,16):\n",
    "    kmeans = KMeans(n_clusters = i).fit(X)\n",
    "    #kmeans = kmeans.\n",
    "    print(kmeans.inertia_)"
   ]
  },
  {
   "cell_type": "code",
   "execution_count": 52,
   "metadata": {},
   "outputs": [
    {
     "name": "stdout",
     "output_type": "stream",
     "text": [
      "[[5.33369565e+01 6.01956522e+01 9.73913043e+00 5.38043478e+00\n",
      "  5.43478261e-03]\n",
      " [6.54358974e+01 7.20307692e+01 9.81538462e+00 1.00974359e+01\n",
      "  1.07692308e-02]\n",
      " [5.64951456e+01 8.34368932e+01 8.15533981e+00 7.06796117e+00\n",
      "  1.55436893e-01]\n",
      " [5.65819209e+01 7.15084746e+01 9.61581921e+00 8.05084746e+00\n",
      "  3.26553672e-02]\n",
      " [6.32916667e+01 4.57291667e+01 9.97916667e+00 6.52083333e+00\n",
      "  2.08333333e-04]\n",
      " [6.57118644e+01 6.27627119e+01 9.87288136e+00 9.22033898e+00\n",
      "  7.37288136e-03]]\n"
     ]
    }
   ],
   "source": [
    "kmeans = KMeans(n_clusters = 6).fit(X)\n",
    "C =  kmeans.cluster_centers_\n",
    "print(C)"
   ]
  },
  {
   "cell_type": "code",
   "execution_count": 53,
   "metadata": {},
   "outputs": [],
   "source": [
    "data['Assignments'] = kmeans.labels_\n",
    "new_DF = data[['Assignments', 'Trips']]\n",
    "output = new_DF.groupby(['Assignments'], as_index = False).agg({'Trips':'mean'})\n",
    "mydf = pd.DataFrame(C, columns = l.columns)"
   ]
  },
  {
   "cell_type": "code",
   "execution_count": 54,
   "metadata": {},
   "outputs": [
    {
     "data": {
      "text/html": [
       "<div>\n",
       "<style scoped>\n",
       "    .dataframe tbody tr th:only-of-type {\n",
       "        vertical-align: middle;\n",
       "    }\n",
       "\n",
       "    .dataframe tbody tr th {\n",
       "        vertical-align: top;\n",
       "    }\n",
       "\n",
       "    .dataframe thead th {\n",
       "        text-align: right;\n",
       "    }\n",
       "</style>\n",
       "<table border=\"1\" class=\"dataframe\">\n",
       "  <thead>\n",
       "    <tr style=\"text-align: right;\">\n",
       "      <th></th>\n",
       "      <th>Assignments</th>\n",
       "      <th>Trips</th>\n",
       "    </tr>\n",
       "  </thead>\n",
       "  <tbody>\n",
       "    <tr>\n",
       "      <th>0</th>\n",
       "      <td>0</td>\n",
       "      <td>818.152174</td>\n",
       "    </tr>\n",
       "    <tr>\n",
       "      <th>1</th>\n",
       "      <td>1</td>\n",
       "      <td>915.435897</td>\n",
       "    </tr>\n",
       "    <tr>\n",
       "      <th>2</th>\n",
       "      <td>2</td>\n",
       "      <td>962.669903</td>\n",
       "    </tr>\n",
       "    <tr>\n",
       "      <th>3</th>\n",
       "      <td>3</td>\n",
       "      <td>869.073446</td>\n",
       "    </tr>\n",
       "    <tr>\n",
       "      <th>4</th>\n",
       "      <td>4</td>\n",
       "      <td>1014.333333</td>\n",
       "    </tr>\n",
       "    <tr>\n",
       "      <th>5</th>\n",
       "      <td>5</td>\n",
       "      <td>970.423729</td>\n",
       "    </tr>\n",
       "  </tbody>\n",
       "</table>\n",
       "</div>"
      ],
      "text/plain": [
       "   Assignments        Trips\n",
       "0            0   818.152174\n",
       "1            1   915.435897\n",
       "2            2   962.669903\n",
       "3            3   869.073446\n",
       "4            4  1014.333333\n",
       "5            5   970.423729"
      ]
     },
     "execution_count": 54,
     "metadata": {},
     "output_type": "execute_result"
    }
   ],
   "source": [
    "output"
   ]
  },
  {
   "cell_type": "code",
   "execution_count": null,
   "metadata": {},
   "outputs": [],
   "source": [
    "mydf.to_csv(\"Regression_input.csv\")"
   ]
  },
  {
   "cell_type": "markdown",
   "metadata": {},
   "source": [
    "We can see that after the 6th cluster the inertia gets stable so we consider 6 as the value."
   ]
  },
  {
   "cell_type": "markdown",
   "metadata": {},
   "source": [
    "For these 6 clusters we have 6 centroids which represent the weather condition in each of these clusters. "
   ]
  },
  {
   "cell_type": "markdown",
   "metadata": {},
   "source": [
    "Output: Aggregating the trips as mean for each cluster, we found that the cluster no 3 has the least number of trips which suggests that the weather conditions for this cluster might be poor which, but before we conclude anything, our experiment requires further validation. "
   ]
  },
  {
   "cell_type": "markdown",
   "metadata": {},
   "source": [
    "We used Azure ML studio to validate our hypothesis using linear regression, Decision forest regression, and Neural network algorithms. As, Decision forest gave best accuracy, the centroid of cluster served as in imput to Decision forest which predicted the number of trips for that weather condition. \n",
    "\n",
    "Results – \n",
    " \n",
    "1. Looking at these outputs we see that the number of trips in the cluster 3 are the lowest for both models where RMSE is 398 and 440 for decision forest and linear regression respectively. \n",
    " \n",
    "2. We also tried neural network regression but due RMSE being on the higher side, we ended up rejecting this algorithm. "
   ]
  },
  {
   "cell_type": "markdown",
   "metadata": {},
   "source": [
    "## Results and Recommendations"
   ]
  },
  {
   "cell_type": "markdown",
   "metadata": {},
   "source": [
    "#### Decision Forest and Linear Regression predicted the least number of trips in same cluster as seen in K-Means, which validates our theory that certain weather conditions, most often the extreme ones can cause the trips to drop significantly, and this can take a hit on the business. \n",
    " \n",
    "#### Companies can use the weather forecast analysis to be prepared of the approaching bad/poor weather conditions and should invest in marketing strategies such as: \n",
    " \n",
    "    ➢ Rolling out promotional offers for eg. discounts or free rentals for a certain period would be beneficial for their sustainability. \n",
    "\n",
    "    ➢ Launch hiking/trekking initiatives with minimal registration costs to attract trek lovers. \n",
    "\n",
    "    ➢ Incorporate some safety assurance guideline or an accidental coverage plans and be equipped with the latest technology to track bikes. This will assure its customers and give them the confidence to ride more. "
   ]
  },
  {
   "cell_type": "code",
   "execution_count": null,
   "metadata": {},
   "outputs": [],
   "source": []
  }
 ],
 "metadata": {
  "kernelspec": {
   "display_name": "Python 3",
   "language": "python",
   "name": "python3"
  },
  "language_info": {
   "codemirror_mode": {
    "name": "ipython",
    "version": 3
   },
   "file_extension": ".py",
   "mimetype": "text/x-python",
   "name": "python",
   "nbconvert_exporter": "python",
   "pygments_lexer": "ipython3",
   "version": "3.7.0"
  }
 },
 "nbformat": 4,
 "nbformat_minor": 2
}
